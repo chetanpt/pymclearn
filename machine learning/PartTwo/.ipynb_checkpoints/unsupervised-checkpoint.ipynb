{
 "cells": [
  {
   "cell_type": "markdown",
   "metadata": {},
   "source": [
    "# 教師なし学習"
   ]
  },
  {
   "cell_type": "markdown",
   "metadata": {},
   "source": [
    "## クラスタリング"
   ]
  },
  {
   "cell_type": "markdown",
   "metadata": {},
   "source": [
    "### k-means 法"
   ]
  },
  {
   "cell_type": "code",
   "execution_count": 1,
   "metadata": {},
   "outputs": [],
   "source": [
    "import numpy as np\n",
    "import numpy.random as random\n",
    "import scipy as sp\n",
    "from pandas import Series, DataFrame\n",
    "import pandas as pd\n",
    "import matplotlib.pyplot as plt\n",
    "import matplotlib as mpl\n",
    "import sklearn\n",
    "\n",
    "%matplotlib inline"
   ]
  },
  {
   "cell_type": "markdown",
   "metadata": {},
   "source": [
    "データは make_blobs を用いて発生させます．"
   ]
  },
  {
   "cell_type": "code",
   "execution_count": 2,
   "metadata": {},
   "outputs": [
    {
     "data": {
      "text/plain": [
       "Text(0, 0.5, 'feature2')"
      ]
     },
     "execution_count": 2,
     "metadata": {},
     "output_type": "execute_result"
    },
    {
     "data": {
      "image/png": "[encoded data removed]",
      "text/plain": [
       "<Figure size 432x288 with 1 Axes>"
      ]
     },
     "metadata": {
      "needs_background": "light"
     },
     "output_type": "display_data"
    }
   ],
   "source": [
    "from sklearn.cluster import KMeans\n",
    "\n",
    "from sklearn.datasets import make_blobs\n",
    "\n",
    "# サンプルデータ生成\n",
    "# 注意：make_blobsの2つの値のうち一方は使用しない\n",
    "X, _ = make_blobs(random_state=1)\n",
    "\n",
    "# データを表示\n",
    "plt.scatter(X[:,0],X[:,1],color='black')\n",
    "plt.xlabel('feature1')\n",
    "plt.ylabel('feature2')\n",
    "#save_fig('kmeans_data')"
   ]
  },
  {
   "cell_type": "code",
   "execution_count": 3,
   "metadata": {},
   "outputs": [],
   "source": [
    "kmeans = KMeans(init='random',n_clusters=2)\n",
    "\n",
    "# クラスターの重心を計算\n",
    "kmeans.fit(X)\n",
    "\n",
    "# クラスター番号を予測\n",
    "y_pred = kmeans.predict(X)"
   ]
  },
  {
   "cell_type": "code",
   "execution_count": 4,
   "metadata": {},
   "outputs": [
    {
     "data": {
      "image/png": "[encoded data removed]",
      "text/plain": [
       "<Figure size 432x288 with 1 Axes>"
      ]
     },
     "metadata": {
      "needs_background": "light"
     },
     "output_type": "display_data"
    }
   ],
   "source": [
    "result = pd.concat([pd.DataFrame(X[:,0]), pd.DataFrame(X[:,1]), pd.DataFrame(y_pred)], axis=1)\n",
    "result.columns = ['feature1','feature2','cluster']\n",
    "# 結果のグラフ化\n",
    "colors = ['red', 'green']\n",
    "\n",
    "ax = None\n",
    "for i, data in result.groupby('cluster'):\n",
    "     ax =data.plot.scatter(x='feature1',y='feature2', color=colors[i],ax=ax)"
   ]
  },
  {
   "cell_type": "code",
   "execution_count": null,
   "metadata": {},
   "outputs": [],
   "source": [
    "kmeans = KMeans(init='random',n_clusters=3)\n",
    "\n",
    "# クラスターの重心を計算\n",
    "kmeans.fit(X)\n",
    "\n",
    "# クラスター番号を予測\n",
    "y_pred = kmeans.predict(X)\n",
    "\n",
    "result = pd.concat([pd.DataFrame(X[:,0]), pd.DataFrame(X[:,1]), pd.DataFrame(y_pred)], axis=1)\n",
    "result.columns = ['feature1','feature2','cluster']\n",
    "# 結果のグラフ化\n",
    "colors = ['blue', 'red', 'green']\n",
    "\n",
    "ax = None\n",
    "for i, data in result.groupby('cluster'):\n",
    "     ax =data.plot.scatter(x='feature1', y='feature2', color=colors[i],ax=ax)\n",
    "#save_fig('kmeans_result')"
   ]
  },
  {
   "cell_type": "markdown",
   "metadata": {},
   "source": [
    "クラスタ数のように学習のためのパラメータをハイパーパラメータとよびます．"
   ]
  },
  {
   "cell_type": "markdown",
   "metadata": {},
   "source": [
    "## 主成分分析"
   ]
  },
  {
   "cell_type": "markdown",
   "metadata": {},
   "source": [
    "scikit-learnの乳がんのデータを使用します．"
   ]
  },
  {
   "cell_type": "code",
   "execution_count": null,
   "metadata": {},
   "outputs": [],
   "source": [
    "from sklearn.datasets import load_breast_cancer\n",
    "\n",
    "# データ取得\n",
    "cancer = load_breast_cancer()\n",
    "print(cancer.DESCR)"
   ]
  },
  {
   "cell_type": "markdown",
   "metadata": {},
   "source": [
    "データを悪性 malignant と良性 benign に分けます． "
   ]
  },
  {
   "cell_type": "code",
   "execution_count": null,
   "metadata": {},
   "outputs": [],
   "source": [
    "malignant = cancer.data[cancer.target==0]\n",
    "benign = cancer.data[cancer.target==1]"
   ]
  },
  {
   "cell_type": "markdown",
   "metadata": {},
   "source": [
    "特徴量のヒストグラムを表示します．"
   ]
  },
  {
   "cell_type": "code",
   "execution_count": null,
   "metadata": {},
   "outputs": [],
   "source": [
    "fig, axes = plt.subplots(6,5,figsize=(20,20))\n",
    "ax = axes.ravel()\n",
    "for i in range(30):\n",
    "    _,bins = np.histogram(cancer.data[:,i], bins=50)\n",
    "    ax[i].hist(malignant[:,i], bins, alpha=.5)\n",
    "    ax[i].hist(benign[:,i], bins, alpha=.5)\n",
    "    ax[i].set_title(cancer.feature_names[i])\n",
    "    ax[i].set_yticks(())\n",
    "    \n",
    "# ラベルの設定\n",
    "ax[0].set_ylabel('Count')\n",
    "ax[0].legend(['malignant','benign'],loc='best')\n",
    "fig.tight_layout()"
   ]
  },
  {
   "cell_type": "markdown",
   "metadata": {},
   "source": [
    "特徴量を正規化します．"
   ]
  },
  {
   "cell_type": "code",
   "execution_count": null,
   "metadata": {},
   "outputs": [],
   "source": [
    "from sklearn.preprocessing import StandardScaler\n",
    "\n",
    "sc = StandardScaler()\n",
    "X_std = sc.fit_transform(cancer.data)"
   ]
  },
  {
   "cell_type": "markdown",
   "metadata": {},
   "source": [
    "主成分分析します．第二主成分まで求めます．"
   ]
  },
  {
   "cell_type": "code",
   "execution_count": null,
   "metadata": {},
   "outputs": [],
   "source": [
    "from sklearn.decomposition import PCA\n",
    "\n",
    "pca = PCA(n_components=2)\n",
    "pca.fit(X_std)\n",
    "X_pca = pca.transform(X_std)"
   ]
  },
  {
   "cell_type": "markdown",
   "metadata": {},
   "source": [
    "第一主成分と第二主成分を図示するため結果を加工します．"
   ]
  },
  {
   "cell_type": "code",
   "execution_count": null,
   "metadata": {},
   "outputs": [],
   "source": [
    "# 列ラベル\n",
    "X_pca = pd.DataFrame(X_pca, columns=['pc1','pc2'])\n",
    "\n",
    "# 目的変数（cancer.target）を追加\n",
    "X_pca = pd.concat([X_pca, pd.DataFrame(cancer.target, columns=['target'])], axis=1)\n",
    "\n",
    "# 悪性と良性を分ける\n",
    "pca_malignant = X_pca[X_pca['target']==0]\n",
    "pca_benign = X_pca[X_pca['target']==1]"
   ]
  },
  {
   "cell_type": "markdown",
   "metadata": {},
   "source": [
    "可視化します．"
   ]
  },
  {
   "cell_type": "code",
   "execution_count": null,
   "metadata": {},
   "outputs": [],
   "source": [
    "ax = pca_malignant.plot.scatter(x='pc1', y='pc2', color='red', label='malignant');\n",
    "pca_benign.plot.scatter(x='pc1', y='pc2', color='blue', label='benign', ax=ax);\n",
    "#save_fig('b_cancer')"
   ]
  },
  {
   "cell_type": "markdown",
   "metadata": {},
   "source": [
    "Copyright. All rights reserved. Shuichi OHNO, 2020."
   ]
  },
  {
   "cell_type": "code",
   "execution_count": null,
   "metadata": {},
   "outputs": [],
   "source": []
  }
 ],
 "metadata": {
  "kernelspec": {
   "display_name": "Python 3",
   "language": "python",
   "name": "python3"
  },
  "language_info": {
   "codemirror_mode": {
    "name": "ipython",
    "version": 3
   },
   "file_extension": ".py",
   "mimetype": "text/x-python",
   "name": "python",
   "nbconvert_exporter": "python",
   "pygments_lexer": "ipython3",
   "version": "3.8.3"
  }
 },
 "nbformat": 4,
 "nbformat_minor": 2
}
