{
 "cells": [
  {
   "cell_type": "markdown",
   "metadata": {},
   "source": [
    "# 可視化"
   ]
  },
  {
   "cell_type": "code",
   "execution_count": null,
   "metadata": {},
   "outputs": [],
   "source": [
    "import numpy as np\n",
    "import matplotlib.pyplot as plt\n",
    "%matplotlib inline"
   ]
  },
  {
   "cell_type": "markdown",
   "metadata": {},
   "source": [
    "matplotlib は matlab に似た描画を提供するライブラリです．"
   ]
  },
  {
   "cell_type": "code",
   "execution_count": null,
   "metadata": {},
   "outputs": [],
   "source": [
    "x=np.linspace(0,2*np.pi)\n",
    "print(x)"
   ]
  },
  {
   "cell_type": "code",
   "execution_count": null,
   "metadata": {},
   "outputs": [],
   "source": [
    "y=np.sin(x)"
   ]
  },
  {
   "cell_type": "markdown",
   "metadata": {},
   "source": [
    "(x,y) の点をプロットし表示します．"
   ]
  },
  {
   "cell_type": "code",
   "execution_count": null,
   "metadata": {},
   "outputs": [],
   "source": [
    "plt.plot(x,y)"
   ]
  },
  {
   "cell_type": "markdown",
   "metadata": {},
   "source": [
    "plot のオプションは matlab の plot と同じです．"
   ]
  },
  {
   "cell_type": "code",
   "execution_count": null,
   "metadata": {},
   "outputs": [],
   "source": [
    "plt.plot(x,y,'o')"
   ]
  },
  {
   "cell_type": "code",
   "execution_count": null,
   "metadata": {},
   "outputs": [],
   "source": [
    "plt.plot(x,y)\n",
    "# タイトル\n",
    "plt.title('Title')\n",
    "# X軸タイトル\n",
    "plt.xlabel('Time')\n",
    "# Y軸タイトル\n",
    "plt.ylabel('Amplitude')\n",
    "# グリッドの表示\n",
    "plt.grid(True)"
   ]
  },
  {
   "cell_type": "markdown",
   "metadata": {},
   "source": [
    "## 複数のデータをひとつのグラフに表示"
   ]
  },
  {
   "cell_type": "code",
   "execution_count": null,
   "metadata": {},
   "outputs": [],
   "source": [
    "z=np.cos(x)\n",
    "\n",
    "plt.plot(x,y,'b--',x,z,'r-.')\n",
    "\n",
    "# タイトル\n",
    "plt.title('Title')\n",
    "# X軸タイトル\n",
    "plt.xlabel('Time')\n",
    "# Y軸タイトル\n",
    "plt.ylabel('Amplitude')\n",
    "# グリッドの表示\n",
    "plt.grid(True)\n",
    "# レジェンド\n",
    "plt.legend(('sin','cos'))"
   ]
  },
  {
   "cell_type": "markdown",
   "metadata": {},
   "source": [
    "## 複数グラフ"
   ]
  },
  {
   "cell_type": "code",
   "execution_count": null,
   "metadata": {},
   "outputs": [],
   "source": [
    "# グラフが重ならないようにマージンを設定\n",
    "plt.subplots_adjust(wspace=0.6,hspace=0.4)\n",
    "\n",
    "plt.subplot(1,2,1)\n",
    "plt.plot(x,y)\n",
    "\n",
    "plt.title('Title')\n",
    "plt.xlabel('Time')\n",
    "plt.ylabel('Amplitude')\n",
    "plt.grid(True)\n",
    "\n",
    "plt.subplot(1,2,2)\n",
    "plt.plot(x,z)\n",
    "\n",
    "plt.title('Title')\n",
    "plt.xlabel('Time')\n",
    "plt.ylabel('Amplitude')\n",
    "plt.grid(True)"
   ]
  },
  {
   "cell_type": "markdown",
   "metadata": {},
   "source": [
    "### 棒グラフ"
   ]
  },
  {
   "cell_type": "code",
   "execution_count": null,
   "metadata": {},
   "outputs": [],
   "source": [
    "x = [1, 2, 3]\n",
    "y = [10, 4, 8]\n",
    "\n",
    "plt.bar(x, y, align='center')\n",
    "\n",
    "# ラベル\n",
    "plt.xticks(x, ['Apple', 'Banana', 'Cherry'])\n",
    "\n",
    "plt.xlabel('Fruit')\n",
    "plt.ylabel('Number')\n",
    "plt.grid(True)"
   ]
  },
  {
   "cell_type": "code",
   "execution_count": null,
   "metadata": {},
   "outputs": [],
   "source": [
    "x = [1, 2, 3]\n",
    "y = [10, 4, 8]\n",
    "\n",
    "plt.barh(x, y, align='center')\n",
    "\n",
    "# ラベル\n",
    "plt.yticks(x, ['Apple', 'Banana', 'Cherry'])\n",
    "\n",
    "plt.ylabel('Fruit')\n",
    "plt.xlabel('Number')\n",
    "plt.grid(True)"
   ]
  },
  {
   "cell_type": "markdown",
   "metadata": {},
   "source": [
    "### 円グラフ"
   ]
  },
  {
   "cell_type": "code",
   "execution_count": null,
   "metadata": {},
   "outputs": [],
   "source": [
    "labels = ['Apple', 'Banana', 'Cherry', 'Grape']\n",
    "sizes = [40, 20, 45, 15]\n",
    "colors = ['red', 'yellow', 'pink', 'purple']\n",
    "\n",
    "# 中心から離す単位\n",
    "explode = (0.1, 0, 0, 0) \n",
    "\n",
    "# グラフの大きさ\n",
    "plt.figure(figsize = (15, 6))\n",
    "\n",
    "# グラフを表示\n",
    "plt.pie(sizes, explode = explode, labels = labels, colors = colors,\n",
    "        autopct = '%1.1f%%', shadow = True, startangle = 90)\n",
    "\n",
    "# 表示を正方形に\n",
    "plt.axis('equal')"
   ]
  },
  {
   "cell_type": "markdown",
   "metadata": {},
   "source": [
    "### バブルチャート"
   ]
  },
  {
   "cell_type": "code",
   "execution_count": null,
   "metadata": {},
   "outputs": [],
   "source": [
    "N = 20\n",
    "\n",
    "# データをランダムに生成 \n",
    "x = np.random.rand(N)\n",
    "y = np.random.rand(N)\n",
    "\n",
    "# color番号\n",
    "colors = np.random.rand(N)\n",
    "\n",
    "# 各点の面積\n",
    "area = (100*np.random.rand(N))**2\n",
    "\n",
    "# グラフの大きさ指定\n",
    "plt.figure(figsize = (15, 6))\n",
    "\n",
    "# グラフを描画\n",
    "plt.scatter(x, y, s = area, c = colors)\n",
    "plt.grid(True)"
   ]
  },
  {
   "cell_type": "markdown",
   "metadata": {},
   "source": [
    "Copyright. All rights reserved. Shuichi OHNO, 2020."
   ]
  }
 ],
 "metadata": {
  "kernelspec": {
   "display_name": "Python 3",
   "language": "python",
   "name": "python3"
  },
  "language_info": {
   "codemirror_mode": {
    "name": "ipython",
    "version": 3
   },
   "file_extension": ".py",
   "mimetype": "text/x-python",
   "name": "python",
   "nbconvert_exporter": "python",
   "pygments_lexer": "ipython3",
   "version": "3.7.6"
  }
 },
 "nbformat": 4,
 "nbformat_minor": 2
}
